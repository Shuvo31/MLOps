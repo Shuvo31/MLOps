{
  "nbformat": 4,
  "nbformat_minor": 0,
  "metadata": {
    "colab": {
      "provenance": []
    },
    "kernelspec": {
      "name": "python3",
      "display_name": "Python 3"
    },
    "language_info": {
      "name": "python"
    }
  },
  "cells": [
    {
      "cell_type": "markdown",
      "source": [
        "**ML Pipeline with ZenMl**"
      ],
      "metadata": {
        "id": "g5yCgWHabH7T"
      }
    },
    {
      "cell_type": "code",
      "source": [
        "#!pip install \"zenml[server]\"\n",
        "#!zenml integration install sklearn -y\n",
        "#!pip install pyparsing==2.4.2"
      ],
      "metadata": {
        "id": "NcuELH2kbGdw"
      },
      "execution_count": 1,
      "outputs": []
    },
    {
      "cell_type": "code",
      "source": [
        "NGROK_TOKEN=\"2Zqveb0pxvljK9KSCSvOwYD9DTB_NsSvTGvYSksPZtwGEMZZ\""
      ],
      "metadata": {
        "id": "RdwTJVCRdOQu"
      },
      "execution_count": 2,
      "outputs": []
    },
    {
      "cell_type": "code",
      "source": [
        "from zenml.environment import Environment\n",
        "if Environment.in_google_colab():\n",
        "  !pip install pyngrok\n",
        "  !ngrok authtoken {NGROK_TOKEN}"
      ],
      "metadata": {
        "colab": {
          "base_uri": "https://localhost:8080/"
        },
        "id": "nKFzh2O2dYyZ",
        "outputId": "c3199dc2-7cc9-4a4b-bd1e-c2802b37822c"
      },
      "execution_count": 3,
      "outputs": [
        {
          "output_type": "stream",
          "name": "stderr",
          "text": [
            "INFO:numexpr.utils:NumExpr defaulting to 2 threads.\n"
          ]
        },
        {
          "output_type": "stream",
          "name": "stdout",
          "text": [
            "\u001b[1;35mNumExpr defaulting to 2 threads.\u001b[0m\n",
            "Requirement already satisfied: pyngrok in /usr/local/lib/python3.10/dist-packages (7.0.3)\n",
            "Requirement already satisfied: PyYAML in /usr/local/lib/python3.10/dist-packages (from pyngrok) (6.0.1)\n",
            "Authtoken saved to configuration file: /root/.config/ngrok/ngrok.yml\n"
          ]
        }
      ]
    },
    {
      "cell_type": "markdown",
      "source": [
        "**ZenML Setup**"
      ],
      "metadata": {
        "id": "q14NCu3WflmF"
      }
    },
    {
      "cell_type": "code",
      "source": [
        "!rm -rf .zen\n",
        "!zenml init"
      ],
      "metadata": {
        "colab": {
          "base_uri": "https://localhost:8080/"
        },
        "id": "zgL30CfIeLqj",
        "outputId": "0a218793-cca9-4209-a424-c3c13730abc4"
      },
      "execution_count": 4,
      "outputs": [
        {
          "output_type": "stream",
          "name": "stdout",
          "text": [
            "\u001b[1;35mNumExpr defaulting to 2 threads.\u001b[0m\n",
            "\u001b[?25l\u001b[32m⠋\u001b[0m Initializing ZenML repository at /content.\n",
            "\u001b[2K\u001b[1A\u001b[2K\u001b[32m⠙\u001b[0m Initializing ZenML repository at /content.\n",
            "\u001b[2K\u001b[1A\u001b[2K\u001b[32m⠹\u001b[0m Initializing ZenML repository at /content.\n",
            "\u001b[2K\u001b[1A\u001b[2K\u001b[32m⠧\u001b[0m Initializing ZenML repository at /content.\n",
            "\u001b[2K\u001b[1A\u001b[2K\u001b[32m⠇\u001b[0m Initializing ZenML repository at /content.\n",
            "\u001b[2K\u001b[1A\u001b[2K\u001b[32m⠏\u001b[0m Initializing ZenML repository at /content.\n",
            "\u001b[2K\u001b[1A\u001b[2K\u001b[32m⠋\u001b[0m Initializing ZenML repository at /content.\n",
            "\u001b[2K\u001b[1A\u001b[2K\u001b[32m⠹\u001b[0m Initializing ZenML repository at /content.\n",
            "\u001b[2K\u001b[1A\u001b[2K\u001b[32m⠸\u001b[0m Initializing ZenML repository at /content.\n",
            "\u001b[2K\u001b[1A\u001b[2K\u001b[32m⠼\u001b[0m Initializing ZenML repository at /content.\n",
            "\u001b[1;35mSetting the repo active workspace to 'default'.\u001b[0m\n",
            "\u001b[33mSetting the repo active stack to default.\u001b[0m\n",
            "\u001b[2K\u001b[1A\u001b[2K\u001b[32m⠴\u001b[0m Initializing ZenML repository at /content.\n",
            "\u001b[2K\u001b[1A\u001b[2K\u001b[2;36mZenML repository initialized at \u001b[0m\u001b[2;35m/\u001b[0m\u001b[2;95mcontent.\u001b[0m\n",
            "\u001b[2;32m⠴\u001b[0m\u001b[2;36m Initializing ZenML repository at /content.\u001b[0m\n",
            "\u001b[2K\u001b[1A\u001b[2K\u001b[32m⠴\u001b[0m Initializing ZenML repository at /content.\n",
            "\n",
            "\u001b[1A\u001b[2K\u001b[1A\u001b[2K\u001b[2;36mThe local active stack was initialized to \u001b[0m\u001b[2;32m'default'\u001b[0m\u001b[2;36m. This local configuration will only take effect \u001b[0m\n",
            "\u001b[2;36mwhen you're running ZenML from the initialized repository root, or from a subdirectory. For more \u001b[0m\n",
            "\u001b[2;36minformation on repositories and configurations, please visit \u001b[0m\n",
            "\u001b[2;4;94mhttps://docs.zenml.io/user-guide/starter-guide/understand-stacks.\u001b[0m\n"
          ]
        }
      ]
    },
    {
      "cell_type": "markdown",
      "source": [
        "**Example Experimentation ML Code**"
      ],
      "metadata": {
        "id": "fk6JAcxIfrit"
      }
    },
    {
      "cell_type": "code",
      "source": [
        "import numpy as np\n",
        "from sklearn.base import ClassifierMixin\n",
        "from sklearn.svm import SVC\n",
        "from sklearn.datasets import load_digits\n",
        "from sklearn.model_selection import train_test_split\n",
        "\n",
        "\n",
        "def train_test() -> None:\n",
        "    \"\"\"Train and test a Scikit-learn SVC classifier on digits\"\"\"\n",
        "    digits = load_digits()\n",
        "    data = digits.images.reshape((len(digits.images), -1))\n",
        "    X_train, X_test, y_train, y_test = train_test_split(\n",
        "        data, digits.target, test_size=0.2, shuffle=False\n",
        "    )\n",
        "    model = SVC(gamma=0.001)\n",
        "    model.fit(X_train, y_train)\n",
        "    test_acc = model.score(X_test, y_test)\n",
        "    print(f\"Test accuracy: {test_acc}\")\n",
        "\n",
        "\n",
        "train_test()"
      ],
      "metadata": {
        "colab": {
          "base_uri": "https://localhost:8080/"
        },
        "id": "Z4sgmTq2e69F",
        "outputId": "e1cefff4-bc81-44e2-e2ce-fdf19d4bdd09"
      },
      "execution_count": 5,
      "outputs": [
        {
          "output_type": "stream",
          "name": "stdout",
          "text": [
            "Test accuracy: 0.9583333333333334\n"
          ]
        }
      ]
    },
    {
      "cell_type": "markdown",
      "source": [
        "**Turning experiments into ML pipelines with ZenML**"
      ],
      "metadata": {
        "id": "wh2s-BSugx0A"
      }
    },
    {
      "cell_type": "code",
      "source": [
        "from zenml.steps import step, Output\n",
        "\n",
        "\n",
        "@step\n",
        "def importer() -> Output(\n",
        "    X_train=np.ndarray,\n",
        "    X_test=np.ndarray,\n",
        "    y_train=np.ndarray,\n",
        "    y_test=np.ndarray,\n",
        "):\n",
        "    \"\"\"Load the digits dataset as numpy arrays.\"\"\"\n",
        "    digits = load_digits()\n",
        "    data = digits.images.reshape((len(digits.images), -1))\n",
        "    X_train, X_test, y_train, y_test = train_test_split(\n",
        "        data, digits.target, test_size=0.2, shuffle=False\n",
        "    )\n",
        "    return X_train, X_test, y_train, y_test\n",
        "\n",
        "\n",
        "@step\n",
        "def svc_trainer(\n",
        "    X_train: np.ndarray,\n",
        "    y_train: np.ndarray,\n",
        ") -> ClassifierMixin:\n",
        "    \"\"\"Train an sklearn SVC classifier.\"\"\"\n",
        "    model = SVC(gamma=0.001)\n",
        "    model.fit(X_train, y_train)\n",
        "    return model\n",
        "\n",
        "\n",
        "@step\n",
        "def evaluator(\n",
        "    X_test: np.ndarray,\n",
        "    y_test: np.ndarray,\n",
        "    model: ClassifierMixin,\n",
        ") -> float:\n",
        "    \"\"\"Calculate the test set accuracy of an sklearn model.\"\"\"\n",
        "    test_acc = model.score(X_test, y_test)\n",
        "    print(f\"Test accuracy: {test_acc}\")\n",
        "    return test_acc"
      ],
      "metadata": {
        "colab": {
          "base_uri": "https://localhost:8080/"
        },
        "id": "zNeh-uaPfwRN",
        "outputId": "694158e3-9433-46ba-cba8-961292c6c6c3"
      },
      "execution_count": 6,
      "outputs": [
        {
          "output_type": "stream",
          "name": "stdout",
          "text": [
            "\u001b[33mThe \u001b[0m\u001b[1;36m@step\u001b[33m decorator that you used to define your importer step is deprecated. Check out the 0.40.0 migration guide for more information on how to migrate your steps to the new syntax: https://docs.zenml.io/reference/migration-guide/migration-zero-forty\u001b[0m\n",
            "\u001b[33mUsing the \u001b[0m\u001b[1;36mOutput\u001b[33m class to define the outputs of your steps is deprecated. You should instead use the standard Python way of type annotating your functions. Check out our documentation https://docs.zenml.io/user-guide/advanced-guide/pipelining-features/configure-steps-pipelines#step-output-names for more information on how to assign custom names to your step outputs.\u001b[0m\n",
            "\u001b[33mThe \u001b[0m\u001b[1;36m@step\u001b[33m decorator that you used to define your svc_trainer step is deprecated. Check out the 0.40.0 migration guide for more information on how to migrate your steps to the new syntax: https://docs.zenml.io/reference/migration-guide/migration-zero-forty\u001b[0m\n",
            "\u001b[33mThe \u001b[0m\u001b[1;36m@step\u001b[33m decorator that you used to define your evaluator step is deprecated. Check out the 0.40.0 migration guide for more information on how to migrate your steps to the new syntax: https://docs.zenml.io/reference/migration-guide/migration-zero-forty\u001b[0m\n"
          ]
        }
      ]
    },
    {
      "cell_type": "code",
      "source": [
        "from zenml.pipelines import pipeline\n",
        "\n",
        "\n",
        "@pipeline\n",
        "def digits_pipeline(importer, trainer, evaluator):\n",
        "    \"\"\"Links all the steps together in a pipeline\"\"\"\n",
        "    X_train, X_test, y_train, y_test = importer()\n",
        "    model = trainer(X_train=X_train, y_train=y_train)\n",
        "    evaluator(X_test=X_test, y_test=y_test, model=model)"
      ],
      "metadata": {
        "colab": {
          "base_uri": "https://localhost:8080/"
        },
        "id": "AUxBz-bCg-nJ",
        "outputId": "e53039ca-266f-4bda-c4ff-75b389825282"
      },
      "execution_count": 7,
      "outputs": [
        {
          "output_type": "stream",
          "name": "stdout",
          "text": [
            "\u001b[33mThe \u001b[0m\u001b[1;36m@pipeline\u001b[33m decorator that you used to define your digits_pipeline pipeline is deprecated. Check out the 0.40.0 migration guide for more information on how to migrate your pipelines to the new syntax: https://docs.zenml.io/reference/migration-guide/migration-zero-forty.html\u001b[0m\n"
          ]
        }
      ]
    },
    {
      "cell_type": "code",
      "source": [
        "digits_svc_pipeline = digits_pipeline(\n",
        "    importer=importer(), trainer=svc_trainer(), evaluator=evaluator()\n",
        ")\n",
        "digits_svc_pipeline.run(unlisted=True)"
      ],
      "metadata": {
        "colab": {
          "base_uri": "https://localhost:8080/"
        },
        "id": "M4lWst6hhJT3",
        "outputId": "6b55371f-0a9c-4e53-a896-51428d2c1f99"
      },
      "execution_count": 8,
      "outputs": [
        {
          "output_type": "stream",
          "name": "stdout",
          "text": [
            "\u001b[33mUsing the \u001b[0m\u001b[1;36mOutput\u001b[33m class to define the outputs of your steps is deprecated. You should instead use the standard Python way of type annotating your functions. Check out our documentation https://docs.zenml.io/user-guide/advanced-guide/pipelining-features/configure-steps-pipelines#step-output-names for more information on how to assign custom names to your step outputs.\u001b[0m\n",
            "\u001b[1;35mInitiating a new run for the pipeline: \u001b[0m\u001b[1;36mdigits_pipeline\u001b[1;35m.\u001b[0m\n",
            "\u001b[1;35mExecuting a new run.\u001b[0m\n",
            "\u001b[1;35mUsing user: \u001b[0m\u001b[1;36mdefault\u001b[1;35m\u001b[0m\n",
            "\u001b[1;35mUsing stack: \u001b[0m\u001b[1;36mdefault\u001b[1;35m\u001b[0m\n",
            "\u001b[1;35m  orchestrator: \u001b[0m\u001b[1;36mdefault\u001b[1;35m\u001b[0m\n",
            "\u001b[1;35m  artifact_store: \u001b[0m\u001b[1;36mdefault\u001b[1;35m\u001b[0m\n",
            "\u001b[33mUsing the \u001b[0m\u001b[1;36mOutput\u001b[33m class to define the outputs of your steps is deprecated. You should instead use the standard Python way of type annotating your functions. Check out our documentation https://docs.zenml.io/user-guide/advanced-guide/pipelining-features/configure-steps-pipelines#step-output-names for more information on how to assign custom names to your step outputs.\u001b[0m\n",
            "\u001b[1;35mUsing cached version of \u001b[0m\u001b[1;36mimporter\u001b[1;35m.\u001b[0m\n",
            "\u001b[33mUsing the \u001b[0m\u001b[1;36mOutput\u001b[33m class to define the outputs of your steps is deprecated. You should instead use the standard Python way of type annotating your functions. Check out our documentation https://docs.zenml.io/user-guide/advanced-guide/pipelining-features/configure-steps-pipelines#step-output-names for more information on how to assign custom names to your step outputs.\u001b[0m\n",
            "\u001b[33mUsing the \u001b[0m\u001b[1;36mOutput\u001b[33m class to define the outputs of your steps is deprecated. You should instead use the standard Python way of type annotating your functions. Check out our documentation https://docs.zenml.io/user-guide/advanced-guide/pipelining-features/configure-steps-pipelines#step-output-names for more information on how to assign custom names to your step outputs.\u001b[0m\n",
            "\u001b[1;35mLinking artifact \u001b[0m\u001b[1;36mX_test\u001b[1;35m to model \u001b[0m\u001b[1;36mNone\u001b[1;35m version \u001b[0m\u001b[1;36mNone\u001b[1;35m implicitly.\u001b[0m\n",
            "\u001b[1;35mLinking artifact \u001b[0m\u001b[1;36my_test\u001b[1;35m to model \u001b[0m\u001b[1;36mNone\u001b[1;35m version \u001b[0m\u001b[1;36mNone\u001b[1;35m implicitly.\u001b[0m\n",
            "\u001b[1;35mLinking artifact \u001b[0m\u001b[1;36my_train\u001b[1;35m to model \u001b[0m\u001b[1;36mNone\u001b[1;35m version \u001b[0m\u001b[1;36mNone\u001b[1;35m implicitly.\u001b[0m\n",
            "\u001b[1;35mLinking artifact \u001b[0m\u001b[1;36mX_train\u001b[1;35m to model \u001b[0m\u001b[1;36mNone\u001b[1;35m version \u001b[0m\u001b[1;36mNone\u001b[1;35m implicitly.\u001b[0m\n",
            "\u001b[1;35mStep \u001b[0m\u001b[1;36mimporter\u001b[1;35m has started.\u001b[0m\n",
            "\u001b[1;35mUsing cached version of \u001b[0m\u001b[1;36mtrainer\u001b[1;35m.\u001b[0m\n",
            "\u001b[1;35mLinking artifact \u001b[0m\u001b[1;36moutput\u001b[1;35m to model \u001b[0m\u001b[1;36mNone\u001b[1;35m version \u001b[0m\u001b[1;36mNone\u001b[1;35m implicitly.\u001b[0m\n",
            "\u001b[1;35mStep \u001b[0m\u001b[1;36mtrainer\u001b[1;35m has started.\u001b[0m\n",
            "\u001b[1;35mUsing cached version of \u001b[0m\u001b[1;36mevaluator\u001b[1;35m.\u001b[0m\n",
            "\u001b[1;35mLinking artifact \u001b[0m\u001b[1;36moutput\u001b[1;35m to model \u001b[0m\u001b[1;36mNone\u001b[1;35m version \u001b[0m\u001b[1;36mNone\u001b[1;35m implicitly.\u001b[0m\n",
            "\u001b[1;35mStep \u001b[0m\u001b[1;36mevaluator\u001b[1;35m has started.\u001b[0m\n",
            "\u001b[1;35mRun \u001b[0m\u001b[1;36mdigits_pipeline-2023_12_21-17_42_57_745366\u001b[1;35m has finished in \u001b[0m\u001b[1;36m1.024s\u001b[1;35m.\u001b[0m\n",
            "\u001b[1;35mYou can visualize your pipeline runs in the \u001b[0m\u001b[1;36mZenML Dashboard\u001b[1;35m. In order to try it locally, please run \u001b[0m\u001b[1;36mzenml up\u001b[1;35m.\u001b[0m\n"
          ]
        }
      ]
    },
    {
      "cell_type": "code",
      "source": [
        "from zenml.environment import Environment\n",
        "\n",
        "def start_zenml_dashboard(port=8237):\n",
        "    if Environment.in_google_colab():\n",
        "        from pyngrok import ngrok\n",
        "\n",
        "        public_url = ngrok.connect(port)\n",
        "        print(f\"\\x1b[31mIn Colab, use this URL instead: {public_url}!\\x1b[0m\")\n",
        "        !zenml up --blocking --port {port}\n",
        "\n",
        "    else:\n",
        "        !zenml up --port {port}\n",
        "\n",
        "start_zenml_dashboard()"
      ],
      "metadata": {
        "colab": {
          "base_uri": "https://localhost:8080/"
        },
        "id": "T36G_lTchbEh",
        "outputId": "258fbee8-d41c-4f3f-8636-ccff5188846a"
      },
      "execution_count": 9,
      "outputs": [
        {
          "output_type": "stream",
          "name": "stderr",
          "text": [
            "INFO:pyngrok.ngrok:Opening tunnel named: http-8237-2bebd5e1-a709-4bc6-946c-ddfc6caf1186\n"
          ]
        },
        {
          "output_type": "stream",
          "name": "stdout",
          "text": [
            "\u001b[1;35mOpening tunnel named: http-8237-2bebd5e1-a709-4bc6-946c-ddfc6caf1186\u001b[0m\n"
          ]
        },
        {
          "output_type": "stream",
          "name": "stderr",
          "text": [
            "INFO:pyngrok.process.ngrok:t=2023-12-21T17:42:59+0000 lvl=info msg=\"no configuration paths supplied\"\n"
          ]
        },
        {
          "output_type": "stream",
          "name": "stdout",
          "text": [
            "\u001b[1;35mt=2023-12-21T17:42:59+0000 lvl=info msg=\"no configuration paths supplied\"\u001b[0m\n"
          ]
        },
        {
          "output_type": "stream",
          "name": "stderr",
          "text": [
            "INFO:pyngrok.process.ngrok:t=2023-12-21T17:42:59+0000 lvl=info msg=\"using configuration at default config path\" path=/root/.config/ngrok/ngrok.yml\n"
          ]
        },
        {
          "output_type": "stream",
          "name": "stdout",
          "text": [
            "\u001b[1;35mt=2023-12-21T17:42:59+0000 lvl=info msg=\"using configuration at default config path\" path=/root/.config/ngrok/ngrok.yml\u001b[0m\n"
          ]
        },
        {
          "output_type": "stream",
          "name": "stderr",
          "text": [
            "INFO:pyngrok.process.ngrok:t=2023-12-21T17:42:59+0000 lvl=info msg=\"open config file\" path=/root/.config/ngrok/ngrok.yml err=nil\n"
          ]
        },
        {
          "output_type": "stream",
          "name": "stdout",
          "text": [
            "\u001b[1;35mt=2023-12-21T17:42:59+0000 lvl=info msg=\"open config file\" path=/root/.config/ngrok/ngrok.yml err=nil\u001b[0m\n"
          ]
        },
        {
          "output_type": "stream",
          "name": "stderr",
          "text": [
            "INFO:pyngrok.process.ngrok:t=2023-12-21T17:42:59+0000 lvl=info msg=\"starting web service\" obj=web addr=127.0.0.1:4040 allow_hosts=[]\n"
          ]
        },
        {
          "output_type": "stream",
          "name": "stdout",
          "text": [
            "\u001b[1;35mt=2023-12-21T17:42:59+0000 lvl=info msg=\"starting web service\" obj=web addr=127.0.0.1:4040 allow_hosts=[]\u001b[0m\n"
          ]
        },
        {
          "output_type": "stream",
          "name": "stderr",
          "text": [
            "INFO:pyngrok.process.ngrok:t=2023-12-21T17:42:59+0000 lvl=info msg=\"client session established\" obj=tunnels.session obj=csess id=1c75dd642e4b\n"
          ]
        },
        {
          "output_type": "stream",
          "name": "stdout",
          "text": [
            "\u001b[1;35mt=2023-12-21T17:42:59+0000 lvl=info msg=\"client session established\" obj=tunnels.session obj=csess id=1c75dd642e4b\u001b[0m\n"
          ]
        },
        {
          "output_type": "stream",
          "name": "stderr",
          "text": [
            "INFO:pyngrok.process.ngrok:t=2023-12-21T17:42:59+0000 lvl=info msg=\"tunnel session started\" obj=tunnels.session\n"
          ]
        },
        {
          "output_type": "stream",
          "name": "stdout",
          "text": [
            "\u001b[1;35mt=2023-12-21T17:42:59+0000 lvl=info msg=\"tunnel session started\" obj=tunnels.session\u001b[0m\n"
          ]
        },
        {
          "output_type": "stream",
          "name": "stderr",
          "text": [
            "INFO:pyngrok.process.ngrok:t=2023-12-21T17:42:59+0000 lvl=info msg=start pg=/api/tunnels id=0cfb6e030789ffa3\n"
          ]
        },
        {
          "output_type": "stream",
          "name": "stdout",
          "text": [
            "\u001b[1;35mt=2023-12-21T17:42:59+0000 lvl=info msg=start pg=/api/tunnels id=0cfb6e030789ffa3\u001b[0m\n"
          ]
        },
        {
          "output_type": "stream",
          "name": "stderr",
          "text": [
            "INFO:pyngrok.process.ngrok:t=2023-12-21T17:42:59+0000 lvl=info msg=end pg=/api/tunnels id=0cfb6e030789ffa3 status=200 dur=391.166µs\n"
          ]
        },
        {
          "output_type": "stream",
          "name": "stdout",
          "text": [
            "\u001b[1;35mt=2023-12-21T17:42:59+0000 lvl=info msg=end pg=/api/tunnels id=0cfb6e030789ffa3 status=200 dur=391.166µs\u001b[0m\n"
          ]
        },
        {
          "output_type": "stream",
          "name": "stderr",
          "text": [
            "INFO:pyngrok.process.ngrok:t=2023-12-21T17:42:59+0000 lvl=info msg=start pg=/api/tunnels id=d917b639bfc8406d\n"
          ]
        },
        {
          "output_type": "stream",
          "name": "stdout",
          "text": [
            "\u001b[31mIn Colab, use this URL instead: NgrokTunnel: \"https://71d0-34-138-18-6.ngrok-free.app\" -> \"http://localhost:8237\"!\u001b[0m\n",
            "\u001b[1;35mt=2023-12-21T17:42:59+0000 lvl=info msg=start pg=/api/tunnels id=d917b639bfc8406d\u001b[0m\n"
          ]
        },
        {
          "output_type": "stream",
          "name": "stderr",
          "text": [
            "INFO:pyngrok.process.ngrok:t=2023-12-21T17:42:59+0000 lvl=info msg=end pg=/api/tunnels id=d917b639bfc8406d status=200 dur=158.431µs\n"
          ]
        },
        {
          "output_type": "stream",
          "name": "stdout",
          "text": [
            "\u001b[1;35mt=2023-12-21T17:42:59+0000 lvl=info msg=end pg=/api/tunnels id=d917b639bfc8406d status=200 dur=158.431µs\u001b[0m\n"
          ]
        },
        {
          "output_type": "stream",
          "name": "stderr",
          "text": [
            "INFO:pyngrok.process.ngrok:t=2023-12-21T17:42:59+0000 lvl=info msg=start pg=/api/tunnels id=1343d162ef0a1b9e\n"
          ]
        },
        {
          "output_type": "stream",
          "name": "stdout",
          "text": [
            "\u001b[1;35mt=2023-12-21T17:42:59+0000 lvl=info msg=start pg=/api/tunnels id=1343d162ef0a1b9e\u001b[0m\n"
          ]
        },
        {
          "output_type": "stream",
          "name": "stderr",
          "text": [
            "INFO:pyngrok.process.ngrok:t=2023-12-21T17:42:59+0000 lvl=info msg=\"started tunnel\" obj=tunnels name=http-8237-2bebd5e1-a709-4bc6-946c-ddfc6caf1186 addr=http://localhost:8237 url=https://71d0-34-138-18-6.ngrok-free.app\n"
          ]
        },
        {
          "output_type": "stream",
          "name": "stdout",
          "text": [
            "\u001b[1;35mt=2023-12-21T17:42:59+0000 lvl=info msg=\"started tunnel\" obj=tunnels name=http-8237-2bebd5e1-a709-4bc6-946c-ddfc6caf1186 addr=http://localhost:8237 url=https://71d0-34-138-18-6.ngrok-free.app\u001b[0m\n"
          ]
        },
        {
          "output_type": "stream",
          "name": "stderr",
          "text": [
            "INFO:pyngrok.process.ngrok:t=2023-12-21T17:42:59+0000 lvl=info msg=end pg=/api/tunnels id=1343d162ef0a1b9e status=201 dur=44.530907ms\n"
          ]
        },
        {
          "output_type": "stream",
          "name": "stdout",
          "text": [
            "\u001b[1;35mt=2023-12-21T17:42:59+0000 lvl=info msg=end pg=/api/tunnels id=1343d162ef0a1b9e status=201 dur=44.530907ms\u001b[0m\n",
            "\u001b[1;35mNumExpr defaulting to 2 threads.\u001b[0m\n",
            "\u001b[1;35mDeploying a local ZenML server with name 'local'.\u001b[0m\n",
            "\u001b[1;35mStarting ZenML Server as blocking process... press CTRL+C once to stop it.\u001b[0m\n",
            "\u001b[32mINFO\u001b[0m:     Started server process [\u001b[36m71973\u001b[0m]\n",
            "\u001b[32mINFO\u001b[0m:     Waiting for application startup.\n",
            "\u001b[32mINFO\u001b[0m:     Application startup complete.\n",
            "\u001b[32mINFO\u001b[0m:     Uvicorn running on \u001b[1mhttp://127.0.0.1:8237\u001b[0m (Press CTRL+C to quit)\n"
          ]
        },
        {
          "output_type": "stream",
          "name": "stderr",
          "text": [
            "INFO:pyngrok.process.ngrok:t=2023-12-21T17:43:43+0000 lvl=info msg=\"join connections\" obj=join id=7e49213decb9 l=127.0.0.1:8237 r=203.163.245.140:49790\n"
          ]
        },
        {
          "output_type": "stream",
          "name": "stdout",
          "text": [
            "\u001b[1;35mt=2023-12-21T17:43:43+0000 lvl=info msg=\"join connections\" obj=join id=7e49213decb9 l=127.0.0.1:8237 r=203.163.245.140:49790\u001b[0m\n",
            "\u001b[32mINFO\u001b[0m:     203.163.245.140:0 - \"\u001b[1mGET / HTTP/1.1\u001b[0m\" \u001b[32m200 OK\u001b[0m\n"
          ]
        },
        {
          "output_type": "stream",
          "name": "stderr",
          "text": [
            "INFO:pyngrok.process.ngrok:t=2023-12-21T17:43:43+0000 lvl=info msg=\"join connections\" obj=join id=7e6fff73a429 l=127.0.0.1:8237 r=203.163.245.140:49790\n"
          ]
        },
        {
          "output_type": "stream",
          "name": "stdout",
          "text": [
            "\u001b[32mINFO\u001b[0m:     203.163.245.140:0 - \"\u001b[1mGET /css/2.5b37d44a.chunk.css HTTP/1.1\u001b[0m\" \u001b[32m200 OK\u001b[0m\n",
            "\u001b[1;35mt=2023-12-21T17:43:43+0000 lvl=info msg=\"join connections\" obj=join id=7e6fff73a429 l=127.0.0.1:8237 r=203.163.245.140:49790\u001b[0m\n"
          ]
        },
        {
          "output_type": "stream",
          "name": "stderr",
          "text": [
            "INFO:pyngrok.process.ngrok:t=2023-12-21T17:43:43+0000 lvl=info msg=\"join connections\" obj=join id=55e3ce20f8eb l=127.0.0.1:8237 r=203.163.245.140:49790\n"
          ]
        },
        {
          "output_type": "stream",
          "name": "stdout",
          "text": [
            "\u001b[1;35mt=2023-12-21T17:43:43+0000 lvl=info msg=\"join connections\" obj=join id=55e3ce20f8eb l=127.0.0.1:8237 r=203.163.245.140:49790\u001b[0m\n"
          ]
        },
        {
          "output_type": "stream",
          "name": "stderr",
          "text": [
            "INFO:pyngrok.process.ngrok:t=2023-12-21T17:43:43+0000 lvl=info msg=\"join connections\" obj=join id=939df0a5b9ab l=127.0.0.1:8237 r=203.163.245.140:49790\n"
          ]
        },
        {
          "output_type": "stream",
          "name": "stdout",
          "text": [
            "\u001b[1;35mt=2023-12-21T17:43:43+0000 lvl=info msg=\"join connections\" obj=join id=939df0a5b9ab l=127.0.0.1:8237 r=203.163.245.140:49790\u001b[0m\n",
            "\u001b[32mINFO\u001b[0m:     203.163.245.140:0 - \"\u001b[1mGET /css/main.77e46c35.chunk.css HTTP/1.1\u001b[0m\" \u001b[32m200 OK\u001b[0m\n",
            "\u001b[32mINFO\u001b[0m:     203.163.245.140:0 - \"\u001b[1mGET /js/main.0472e82f.chunk.js HTTP/1.1\u001b[0m\" \u001b[32m200 OK\u001b[0m\n",
            "\u001b[32mINFO\u001b[0m:     203.163.245.140:0 - \"\u001b[1mGET /js/2.c7557a74.chunk.js HTTP/1.1\u001b[0m\" \u001b[32m200 OK\u001b[0m\n",
            "\u001b[32mINFO\u001b[0m:     203.163.245.140:0 - \"\u001b[1mGET /favicon.ico HTTP/1.1\u001b[0m\" \u001b[32m200 OK\u001b[0m\n"
          ]
        },
        {
          "output_type": "stream",
          "name": "stderr",
          "text": [
            "INFO:pyngrok.process.ngrok:t=2023-12-21T17:43:46+0000 lvl=info msg=\"join connections\" obj=join id=36e78f1ea35a l=127.0.0.1:8237 r=203.163.245.140:49790\n"
          ]
        },
        {
          "output_type": "stream",
          "name": "stdout",
          "text": [
            "\u001b[32mINFO\u001b[0m:     203.163.245.140:0 - \"\u001b[1mGET /api/v1/workspaces HTTP/1.1\u001b[0m\" \u001b[31m401 Unauthorized\u001b[0m\n",
            "\u001b[32mINFO\u001b[0m:     203.163.245.140:0 - \"\u001b[1mGET /media/logo_small.4204397d.svg HTTP/1.1\u001b[0m\" \u001b[32m200 OK\u001b[0m\n",
            "\u001b[1;35mt=2023-12-21T17:43:46+0000 lvl=info msg=\"join connections\" obj=join id=36e78f1ea35a l=127.0.0.1:8237 r=203.163.245.140:49790\u001b[0m\n",
            "\u001b[32mINFO\u001b[0m:     203.163.245.140:0 - \"\u001b[1mGET /api/v1/info HTTP/1.1\u001b[0m\" \u001b[32m200 OK\u001b[0m\n"
          ]
        },
        {
          "output_type": "stream",
          "name": "stderr",
          "text": [
            "INFO:pyngrok.process.ngrok:t=2023-12-21T17:43:46+0000 lvl=info msg=\"join connections\" obj=join id=1782338d5f35 l=127.0.0.1:8237 r=203.163.245.140:49790\n"
          ]
        },
        {
          "output_type": "stream",
          "name": "stdout",
          "text": [
            "\u001b[1;35mt=2023-12-21T17:43:46+0000 lvl=info msg=\"join connections\" obj=join id=1782338d5f35 l=127.0.0.1:8237 r=203.163.245.140:49790\u001b[0m\n"
          ]
        },
        {
          "output_type": "stream",
          "name": "stderr",
          "text": [
            "INFO:pyngrok.process.ngrok:t=2023-12-21T17:43:46+0000 lvl=info msg=\"join connections\" obj=join id=80687d8e306e l=127.0.0.1:8237 r=203.163.245.140:49790\n"
          ]
        },
        {
          "output_type": "stream",
          "name": "stdout",
          "text": [
            "\u001b[1;35mt=2023-12-21T17:43:46+0000 lvl=info msg=\"join connections\" obj=join id=80687d8e306e l=127.0.0.1:8237 r=203.163.245.140:49790\u001b[0m\n"
          ]
        },
        {
          "output_type": "stream",
          "name": "stderr",
          "text": [
            "INFO:pyngrok.process.ngrok:t=2023-12-21T17:43:46+0000 lvl=info msg=\"join connections\" obj=join id=58f75c16e45b l=127.0.0.1:8237 r=203.163.245.140:49790\n"
          ]
        },
        {
          "output_type": "stream",
          "name": "stdout",
          "text": [
            "\u001b[1;35mt=2023-12-21T17:43:46+0000 lvl=info msg=\"join connections\" obj=join id=58f75c16e45b l=127.0.0.1:8237 r=203.163.245.140:49790\u001b[0m\n",
            "\u001b[32mINFO\u001b[0m:     203.163.245.140:0 - \"\u001b[1mGET /media/Rubik-Regular.b3d0902b.ttf HTTP/1.1\u001b[0m\" \u001b[32m200 OK\u001b[0m\n",
            "\u001b[32mINFO\u001b[0m:     203.163.245.140:0 - \"\u001b[1mGET /media/Rubik-Medium.c87313aa.ttf HTTP/1.1\u001b[0m\" \u001b[32m200 OK\u001b[0m\n",
            "\u001b[32mINFO\u001b[0m:     203.163.245.140:0 - \"\u001b[1mGET /api/v1/info HTTP/1.1\u001b[0m\" \u001b[32m200 OK\u001b[0m\n",
            "\u001b[32mINFO\u001b[0m:     203.163.245.140:0 - \"\u001b[1mPOST /api/v1/login HTTP/1.1\u001b[0m\" \u001b[32m200 OK\u001b[0m\n"
          ]
        },
        {
          "output_type": "stream",
          "name": "stderr",
          "text": [
            "INFO:pyngrok.process.ngrok:t=2023-12-21T17:43:53+0000 lvl=info msg=\"join connections\" obj=join id=f94d9890055b l=127.0.0.1:8237 r=203.163.245.140:49790\n"
          ]
        },
        {
          "output_type": "stream",
          "name": "stdout",
          "text": [
            "\u001b[1;35mGot token from cookie\u001b[0m\n",
            "\u001b[32mINFO\u001b[0m:     203.163.245.140:0 - \"\u001b[1mGET /api/v1/current-user HTTP/1.1\u001b[0m\" \u001b[32m200 OK\u001b[0m\n",
            "\u001b[1;35mt=2023-12-21T17:43:53+0000 lvl=info msg=\"join connections\" obj=join id=f94d9890055b l=127.0.0.1:8237 r=203.163.245.140:49790\u001b[0m\n"
          ]
        },
        {
          "output_type": "stream",
          "name": "stderr",
          "text": [
            "INFO:pyngrok.process.ngrok:t=2023-12-21T17:43:53+0000 lvl=info msg=\"join connections\" obj=join id=dc98f8aec006 l=127.0.0.1:8237 r=203.163.245.140:49790\n"
          ]
        },
        {
          "output_type": "stream",
          "name": "stdout",
          "text": [
            "\u001b[1;35mt=2023-12-21T17:43:53+0000 lvl=info msg=\"join connections\" obj=join id=dc98f8aec006 l=127.0.0.1:8237 r=203.163.245.140:49790\u001b[0m\n"
          ]
        },
        {
          "output_type": "stream",
          "name": "stderr",
          "text": [
            "INFO:pyngrok.process.ngrok:t=2023-12-21T17:43:53+0000 lvl=info msg=\"join connections\" obj=join id=eb10fb9ebda2 l=127.0.0.1:8237 r=203.163.245.140:49790\n"
          ]
        },
        {
          "output_type": "stream",
          "name": "stdout",
          "text": [
            "\u001b[1;35mt=2023-12-21T17:43:53+0000 lvl=info msg=\"join connections\" obj=join id=eb10fb9ebda2 l=127.0.0.1:8237 r=203.163.245.140:49790\u001b[0m\n"
          ]
        },
        {
          "output_type": "stream",
          "name": "stderr",
          "text": [
            "INFO:pyngrok.process.ngrok:t=2023-12-21T17:43:53+0000 lvl=info msg=\"join connections\" obj=join id=4642991bb7da l=127.0.0.1:8237 r=203.163.245.140:49790\n"
          ]
        },
        {
          "output_type": "stream",
          "name": "stdout",
          "text": [
            "\u001b[1;35mt=2023-12-21T17:43:53+0000 lvl=info msg=\"join connections\" obj=join id=4642991bb7da l=127.0.0.1:8237 r=203.163.245.140:49790\u001b[0m\n",
            "\u001b[1;35mGot token from cookie\u001b[0m\n",
            "\u001b[32mINFO\u001b[0m:     203.163.245.140:0 - \"\u001b[1mGET /api/v1/component-types HTTP/1.1\u001b[0m\" \u001b[32m200 OK\u001b[0m\n",
            "\u001b[1;35mGot token from cookie\u001b[0m\n",
            "\u001b[1;35mGot token from cookie\u001b[0m\n",
            "\u001b[32mINFO\u001b[0m:     203.163.245.140:0 - \"\u001b[1mGET /api/v1/info HTTP/1.1\u001b[0m\" \u001b[32m200 OK\u001b[0m\n",
            "\u001b[32mINFO\u001b[0m:     203.163.245.140:0 - \"\u001b[1mGET /api/v1/workspaces HTTP/1.1\u001b[0m\" \u001b[32m200 OK\u001b[0m\n",
            "\u001b[32mINFO\u001b[0m:     203.163.245.140:0 - \"\u001b[1mGET /api/v1/users?hydrate=true&size=1000&page=1 HTTP/1.1\u001b[0m\" \u001b[32m200 OK\u001b[0m\n",
            "\u001b[1;35mGot token from cookie\u001b[0m\n",
            "\u001b[32mINFO\u001b[0m:     203.163.245.140:0 - \"\u001b[1mGET /api/v1/workspaces HTTP/1.1\u001b[0m\" \u001b[32m200 OK\u001b[0m\n",
            "\u001b[1;35mGot token from cookie\u001b[0m\n",
            "\u001b[1;35mGot token from cookie\u001b[0m\n",
            "\u001b[32mINFO\u001b[0m:     203.163.245.140:0 - \"\u001b[1mGET /api/v1/users?hydrate=true&size=1000&page=1 HTTP/1.1\u001b[0m\" \u001b[32m200 OK\u001b[0m\n",
            "\u001b[32mINFO\u001b[0m:     203.163.245.140:0 - \"\u001b[1mGET /api/v1/workspaces/default/statistics HTTP/1.1\u001b[0m\" \u001b[32m200 OK\u001b[0m\n"
          ]
        },
        {
          "output_type": "stream",
          "name": "stderr",
          "text": [
            "INFO:pyngrok.process.ngrok:t=2023-12-21T17:44:10+0000 lvl=info msg=\"join connections\" obj=join id=30421d69bf1a l=127.0.0.1:8237 r=203.163.245.140:49790\n"
          ]
        },
        {
          "output_type": "stream",
          "name": "stdout",
          "text": [
            "\u001b[1;35mt=2023-12-21T17:44:10+0000 lvl=info msg=\"join connections\" obj=join id=30421d69bf1a l=127.0.0.1:8237 r=203.163.245.140:49790\u001b[0m\n"
          ]
        },
        {
          "output_type": "stream",
          "name": "stderr",
          "text": [
            "INFO:pyngrok.process.ngrok:t=2023-12-21T17:44:10+0000 lvl=info msg=\"join connections\" obj=join id=047042ef0769 l=127.0.0.1:8237 r=203.163.245.140:49790\n"
          ]
        },
        {
          "output_type": "stream",
          "name": "stdout",
          "text": [
            "\u001b[1;35mt=2023-12-21T17:44:10+0000 lvl=info msg=\"join connections\" obj=join id=047042ef0769 l=127.0.0.1:8237 r=203.163.245.140:49790\u001b[0m\n"
          ]
        },
        {
          "output_type": "stream",
          "name": "stderr",
          "text": [
            "INFO:pyngrok.process.ngrok:t=2023-12-21T17:44:10+0000 lvl=info msg=\"join connections\" obj=join id=3441f5b9bf6d l=127.0.0.1:8237 r=203.163.245.140:49790\n"
          ]
        },
        {
          "output_type": "stream",
          "name": "stdout",
          "text": [
            "\u001b[1;35mt=2023-12-21T17:44:10+0000 lvl=info msg=\"join connections\" obj=join id=3441f5b9bf6d l=127.0.0.1:8237 r=203.163.245.140:49790\u001b[0m\n",
            "\u001b[1;35mGot token from cookie\u001b[0m\n",
            "\u001b[1;35mGot token from cookie\u001b[0m\n",
            "\u001b[32mINFO\u001b[0m:     203.163.245.140:0 - \"\u001b[1mGET /api/v1/info HTTP/1.1\u001b[0m\" \u001b[32m200 OK\u001b[0m\n",
            "\u001b[32mINFO\u001b[0m:     203.163.245.140:0 - \"\u001b[1mGET /api/v1/workspaces HTTP/1.1\u001b[0m\" \u001b[32m200 OK\u001b[0m\n",
            "\u001b[32mINFO\u001b[0m:     203.163.245.140:0 - \"\u001b[1mGET /api/v1/workspaces/default/pipelines?sort_by=desc:created&logical_operator=and&page=1&size=10 HTTP/1.1\u001b[0m\" \u001b[32m200 OK\u001b[0m\n"
          ]
        },
        {
          "output_type": "stream",
          "name": "stderr",
          "text": [
            "INFO:pyngrok.process.ngrok:t=2023-12-21T17:44:12+0000 lvl=info msg=\"join connections\" obj=join id=e5e7f2894ee8 l=127.0.0.1:8237 r=203.163.245.140:49790\n"
          ]
        },
        {
          "output_type": "stream",
          "name": "stdout",
          "text": [
            "\u001b[1;35mGot token from cookie\u001b[0m\n",
            "\u001b[1;35mGot token from cookie\u001b[0m\n",
            "\u001b[32mINFO\u001b[0m:     203.163.245.140:0 - \"\u001b[1mGET /api/v1/workspaces HTTP/1.1\u001b[0m\" \u001b[32m200 OK\u001b[0m\n",
            "\u001b[32mINFO\u001b[0m:     203.163.245.140:0 - \"\u001b[1mGET /api/v1/workspaces/default/runs?sort_by=desc:created&logical_operator=and&page=1&size=10 HTTP/1.1\u001b[0m\" \u001b[32m200 OK\u001b[0m\n",
            "\u001b[1;35mt=2023-12-21T17:44:12+0000 lvl=info msg=\"join connections\" obj=join id=e5e7f2894ee8 l=127.0.0.1:8237 r=203.163.245.140:49790\u001b[0m\n",
            "\u001b[32mINFO\u001b[0m:     203.163.245.140:0 - \"\u001b[1mGET /api/v1/info HTTP/1.1\u001b[0m\" \u001b[32m200 OK\u001b[0m\n"
          ]
        },
        {
          "output_type": "stream",
          "name": "stderr",
          "text": [
            "INFO:pyngrok.process.ngrok:t=2023-12-21T17:44:17+0000 lvl=info msg=\"join connections\" obj=join id=d0438b94d43d l=127.0.0.1:8237 r=203.163.245.140:49790\n"
          ]
        },
        {
          "output_type": "stream",
          "name": "stdout",
          "text": [
            "\u001b[32mINFO\u001b[0m:     203.163.245.140:0 - \"\u001b[1mGET /api/v1/info HTTP/1.1\u001b[0m\" \u001b[32m200 OK\u001b[0m\n",
            "\u001b[1;35mGot token from cookie\u001b[0m\n",
            "\u001b[1;35mt=2023-12-21T17:44:17+0000 lvl=info msg=\"join connections\" obj=join id=d0438b94d43d l=127.0.0.1:8237 r=203.163.245.140:49790\u001b[0m\n"
          ]
        },
        {
          "output_type": "stream",
          "name": "stderr",
          "text": [
            "INFO:pyngrok.process.ngrok:t=2023-12-21T17:44:18+0000 lvl=info msg=\"join connections\" obj=join id=0f7a3958fb56 l=127.0.0.1:8237 r=203.163.245.140:49790\n"
          ]
        },
        {
          "output_type": "stream",
          "name": "stdout",
          "text": [
            "\u001b[1;35mGot token from cookie\u001b[0m\n",
            "\u001b[32mINFO\u001b[0m:     203.163.245.140:0 - \"\u001b[1mGET /api/v1/workspaces HTTP/1.1\u001b[0m\" \u001b[32m200 OK\u001b[0m\n",
            "\u001b[32mINFO\u001b[0m:     203.163.245.140:0 - \"\u001b[1mGET /api/v1/runs/5fec77a0-aa3a-48b5-b03f-66c75e428792 HTTP/1.1\u001b[0m\" \u001b[32m200 OK\u001b[0m\n",
            "\u001b[1;35mt=2023-12-21T17:44:18+0000 lvl=info msg=\"join connections\" obj=join id=0f7a3958fb56 l=127.0.0.1:8237 r=203.163.245.140:49790\u001b[0m\n",
            "\u001b[1;35mGot token from cookie\u001b[0m\n",
            "\u001b[32mINFO\u001b[0m:     203.163.245.140:0 - \"\u001b[1mGET /api/v1/runs/5fec77a0-aa3a-48b5-b03f-66c75e428792/graph HTTP/1.1\u001b[0m\" \u001b[32m200 OK\u001b[0m\n",
            "\u001b[1;35mGot token from cookie\u001b[0m\n",
            "\u001b[32mINFO\u001b[0m:     203.163.245.140:0 - \"\u001b[1mGET /media/arrowClose.cbd53f3f.svg HTTP/1.1\u001b[0m\" \u001b[32m200 OK\u001b[0m\n",
            "\u001b[32mINFO\u001b[0m:     203.163.245.140:0 - \"\u001b[1mGET /api/v1/run-metadata?pipeline_run_id=5fec77a0-aa3a-48b5-b03f-66c75e428792&key=orchestrator_url HTTP/1.1\u001b[0m\" \u001b[32m200 OK\u001b[0m\n"
          ]
        },
        {
          "output_type": "stream",
          "name": "stderr",
          "text": [
            "INFO:pyngrok.process.ngrok:t=2023-12-21T17:44:24+0000 lvl=info msg=\"join connections\" obj=join id=4ec9879b7549 l=127.0.0.1:8237 r=203.163.245.140:49790\n"
          ]
        },
        {
          "output_type": "stream",
          "name": "stdout",
          "text": [
            "\u001b[1;35mt=2023-12-21T17:44:24+0000 lvl=info msg=\"join connections\" obj=join id=4ec9879b7549 l=127.0.0.1:8237 r=203.163.245.140:49790\u001b[0m\n"
          ]
        },
        {
          "output_type": "stream",
          "name": "stderr",
          "text": [
            "INFO:pyngrok.process.ngrok:t=2023-12-21T17:44:24+0000 lvl=info msg=\"join connections\" obj=join id=0866d5a9f4af l=127.0.0.1:8237 r=203.163.245.140:49790\n"
          ]
        },
        {
          "output_type": "stream",
          "name": "stdout",
          "text": [
            "\u001b[1;35mt=2023-12-21T17:44:24+0000 lvl=info msg=\"join connections\" obj=join id=0866d5a9f4af l=127.0.0.1:8237 r=203.163.245.140:49790\u001b[0m\n"
          ]
        },
        {
          "output_type": "stream",
          "name": "stderr",
          "text": [
            "INFO:pyngrok.process.ngrok:t=2023-12-21T17:44:24+0000 lvl=info msg=\"join connections\" obj=join id=7497b53371f6 l=127.0.0.1:8237 r=203.163.245.140:49790\n"
          ]
        },
        {
          "output_type": "stream",
          "name": "stdout",
          "text": [
            "\u001b[1;35mt=2023-12-21T17:44:24+0000 lvl=info msg=\"join connections\" obj=join id=7497b53371f6 l=127.0.0.1:8237 r=203.163.245.140:49790\u001b[0m\n",
            "\u001b[1;35mGot token from cookie\u001b[0m\n",
            "\u001b[1;35mGot token from cookie\u001b[0m\n",
            "\u001b[32mINFO\u001b[0m:     203.163.245.140:0 - \"\u001b[1mGET /api/v1/workspaces HTTP/1.1\u001b[0m\" \u001b[32m200 OK\u001b[0m\n",
            "\u001b[32mINFO\u001b[0m:     203.163.245.140:0 - \"\u001b[1mGET /api/v1/info HTTP/1.1\u001b[0m\" \u001b[32m200 OK\u001b[0m\n",
            "\u001b[32mINFO\u001b[0m:     203.163.245.140:0 - \"\u001b[1mGET /api/v1/runs/5fec77a0-aa3a-48b5-b03f-66c75e428792 HTTP/1.1\u001b[0m\" \u001b[32m200 OK\u001b[0m\n",
            "\u001b[1;35mGot token from cookie\u001b[0m\n",
            "\u001b[32mINFO\u001b[0m:     203.163.245.140:0 - \"\u001b[1mGET /api/v1/runs/5fec77a0-aa3a-48b5-b03f-66c75e428792/graph HTTP/1.1\u001b[0m\" \u001b[32m200 OK\u001b[0m\n",
            "\u001b[1;35mGot token from cookie\u001b[0m\n",
            "\u001b[32mINFO\u001b[0m:     203.163.245.140:0 - \"\u001b[1mGET /api/v1/run-metadata?pipeline_run_id=5fec77a0-aa3a-48b5-b03f-66c75e428792&key=orchestrator_url HTTP/1.1\u001b[0m\" \u001b[32m200 OK\u001b[0m\n"
          ]
        },
        {
          "output_type": "stream",
          "name": "stderr",
          "text": [
            "INFO:pyngrok.process.ngrok:t=2023-12-21T17:44:28+0000 lvl=info msg=\"join connections\" obj=join id=fc48b5882eb5 l=127.0.0.1:8237 r=203.163.245.140:49790\n"
          ]
        },
        {
          "output_type": "stream",
          "name": "stdout",
          "text": [
            "\u001b[1;35mGot token from cookie\u001b[0m\n",
            "\u001b[32mINFO\u001b[0m:     203.163.245.140:0 - \"\u001b[1mGET /api/v1/info HTTP/1.1\u001b[0m\" \u001b[32m200 OK\u001b[0m\n",
            "\u001b[32mINFO\u001b[0m:     203.163.245.140:0 - \"\u001b[1mGET /api/v1/workspaces HTTP/1.1\u001b[0m\" \u001b[32m200 OK\u001b[0m\n",
            "\u001b[1;35mt=2023-12-21T17:44:28+0000 lvl=info msg=\"join connections\" obj=join id=fc48b5882eb5 l=127.0.0.1:8237 r=203.163.245.140:49790\u001b[0m\n",
            "\u001b[1;35mGot token from cookie\u001b[0m\n",
            "\u001b[32mINFO\u001b[0m:     203.163.245.140:0 - \"\u001b[1mGET /api/v1/runs/5fec77a0-aa3a-48b5-b03f-66c75e428792 HTTP/1.1\u001b[0m\" \u001b[32m200 OK\u001b[0m\n",
            "\u001b[1;35mGot token from cookie\u001b[0m\n",
            "\u001b[32mINFO\u001b[0m:     203.163.245.140:0 - \"\u001b[1mGET /api/v1/runs/5fec77a0-aa3a-48b5-b03f-66c75e428792/graph HTTP/1.1\u001b[0m\" \u001b[32m200 OK\u001b[0m\n",
            "\u001b[1;35mGot token from cookie\u001b[0m\n",
            "\u001b[32mINFO\u001b[0m:     203.163.245.140:0 - \"\u001b[1mGET /api/v1/run-metadata?pipeline_run_id=5fec77a0-aa3a-48b5-b03f-66c75e428792&key=orchestrator_url HTTP/1.1\u001b[0m\" \u001b[32m200 OK\u001b[0m\n"
          ]
        },
        {
          "output_type": "stream",
          "name": "stderr",
          "text": [
            "INFO:pyngrok.process.ngrok:t=2023-12-21T17:45:03+0000 lvl=info msg=\"join connections\" obj=join id=0d7890c10557 l=127.0.0.1:8237 r=203.163.245.140:49790\n"
          ]
        },
        {
          "output_type": "stream",
          "name": "stdout",
          "text": [
            "\u001b[1;35mt=2023-12-21T17:45:03+0000 lvl=info msg=\"join connections\" obj=join id=0d7890c10557 l=127.0.0.1:8237 r=203.163.245.140:49790\u001b[0m\n"
          ]
        },
        {
          "output_type": "stream",
          "name": "stderr",
          "text": [
            "INFO:pyngrok.process.ngrok:t=2023-12-21T17:45:03+0000 lvl=info msg=\"join connections\" obj=join id=4c298a25670e l=127.0.0.1:8237 r=203.163.245.140:49790\n"
          ]
        },
        {
          "output_type": "stream",
          "name": "stdout",
          "text": [
            "\u001b[1;35mt=2023-12-21T17:45:03+0000 lvl=info msg=\"join connections\" obj=join id=4c298a25670e l=127.0.0.1:8237 r=203.163.245.140:49790\u001b[0m\n"
          ]
        },
        {
          "output_type": "stream",
          "name": "stderr",
          "text": [
            "INFO:pyngrok.process.ngrok:t=2023-12-21T17:45:03+0000 lvl=info msg=\"join connections\" obj=join id=f33994f3af42 l=127.0.0.1:8237 r=203.163.245.140:49790\n"
          ]
        },
        {
          "output_type": "stream",
          "name": "stdout",
          "text": [
            "\u001b[1;35mt=2023-12-21T17:45:03+0000 lvl=info msg=\"join connections\" obj=join id=f33994f3af42 l=127.0.0.1:8237 r=203.163.245.140:49790\u001b[0m\n",
            "\u001b[1;35mGot token from cookie\u001b[0m\n",
            "\u001b[32mINFO\u001b[0m:     203.163.245.140:0 - \"\u001b[1mGET /api/v1/info HTTP/1.1\u001b[0m\" \u001b[32m200 OK\u001b[0m\n",
            "\u001b[32mINFO\u001b[0m:     203.163.245.140:0 - \"\u001b[1mGET /api/v1/workspaces/default/stacks?sort_by=desc:created&logical_operator=and&page=1&size=10 HTTP/1.1\u001b[0m\" \u001b[32m200 OK\u001b[0m\n",
            "\u001b[1;35mGot token from cookie\u001b[0m\n",
            "\u001b[32mINFO\u001b[0m:     203.163.245.140:0 - \"\u001b[1mGET /api/v1/workspaces HTTP/1.1\u001b[0m\" \u001b[32m200 OK\u001b[0m\n"
          ]
        },
        {
          "output_type": "stream",
          "name": "stderr",
          "text": [
            "INFO:pyngrok.process.ngrok:t=2023-12-21T17:45:06+0000 lvl=info msg=\"join connections\" obj=join id=7ec8288ab8f4 l=127.0.0.1:8237 r=203.163.245.140:49790\n"
          ]
        },
        {
          "output_type": "stream",
          "name": "stdout",
          "text": [
            "\u001b[1;35mGot token from cookie\u001b[0m\n",
            "\u001b[32mINFO\u001b[0m:     203.163.245.140:0 - \"\u001b[1mGET /api/v1/info HTTP/1.1\u001b[0m\" \u001b[32m200 OK\u001b[0m\n",
            "\u001b[32mINFO\u001b[0m:     203.163.245.140:0 - \"\u001b[1mGET /api/v1/workspaces HTTP/1.1\u001b[0m\" \u001b[32m200 OK\u001b[0m\n",
            "\u001b[1;35mt=2023-12-21T17:45:06+0000 lvl=info msg=\"join connections\" obj=join id=7ec8288ab8f4 l=127.0.0.1:8237 r=203.163.245.140:49790\u001b[0m\n"
          ]
        },
        {
          "output_type": "stream",
          "name": "stderr",
          "text": [
            "INFO:pyngrok.process.ngrok:t=2023-12-21T17:45:06+0000 lvl=info msg=\"join connections\" obj=join id=d4e8bd0b1cb6 l=127.0.0.1:8237 r=203.163.245.140:49790\n"
          ]
        },
        {
          "output_type": "stream",
          "name": "stdout",
          "text": [
            "\u001b[1;35mt=2023-12-21T17:45:06+0000 lvl=info msg=\"join connections\" obj=join id=d4e8bd0b1cb6 l=127.0.0.1:8237 r=203.163.245.140:49790\u001b[0m\n",
            "\u001b[1;35mGot token from cookie\u001b[0m\n",
            "\u001b[1;35mGot token from cookie\u001b[0m\n",
            "\u001b[32mINFO\u001b[0m:     203.163.245.140:0 - \"\u001b[1mGET /api/v1/flavors?size=1000 HTTP/1.1\u001b[0m\" \u001b[32m200 OK\u001b[0m\n",
            "\u001b[32mINFO\u001b[0m:     203.163.245.140:0 - \"\u001b[1mGET /api/v1/stacks/b3ceae87-d19e-4b59-aacd-8da8b0e0d31b HTTP/1.1\u001b[0m\" \u001b[32m200 OK\u001b[0m\n"
          ]
        },
        {
          "output_type": "stream",
          "name": "stderr",
          "text": [
            "INFO:pyngrok.process.ngrok:t=2023-12-21T17:45:11+0000 lvl=info msg=\"join connections\" obj=join id=20cf75bac127 l=127.0.0.1:8237 r=203.163.245.140:49790\n"
          ]
        },
        {
          "output_type": "stream",
          "name": "stdout",
          "text": [
            "\u001b[1;35mt=2023-12-21T17:45:11+0000 lvl=info msg=\"join connections\" obj=join id=20cf75bac127 l=127.0.0.1:8237 r=203.163.245.140:49790\u001b[0m\n"
          ]
        },
        {
          "output_type": "stream",
          "name": "stderr",
          "text": [
            "INFO:pyngrok.process.ngrok:t=2023-12-21T17:45:11+0000 lvl=info msg=\"join connections\" obj=join id=f36957f9ffec l=127.0.0.1:8237 r=203.163.245.140:49790\n"
          ]
        },
        {
          "output_type": "stream",
          "name": "stdout",
          "text": [
            "\u001b[1;35mt=2023-12-21T17:45:11+0000 lvl=info msg=\"join connections\" obj=join id=f36957f9ffec l=127.0.0.1:8237 r=203.163.245.140:49790\u001b[0m\n"
          ]
        },
        {
          "output_type": "stream",
          "name": "stderr",
          "text": [
            "INFO:pyngrok.process.ngrok:t=2023-12-21T17:45:11+0000 lvl=info msg=\"join connections\" obj=join id=e3d7a957f139 l=127.0.0.1:8237 r=203.163.245.140:49790\n"
          ]
        },
        {
          "output_type": "stream",
          "name": "stdout",
          "text": [
            "\u001b[1;35mGot token from cookie\u001b[0m\n",
            "\u001b[1;35mt=2023-12-21T17:45:11+0000 lvl=info msg=\"join connections\" obj=join id=e3d7a957f139 l=127.0.0.1:8237 r=203.163.245.140:49790\u001b[0m\n"
          ]
        },
        {
          "output_type": "stream",
          "name": "stderr",
          "text": [
            "INFO:pyngrok.process.ngrok:t=2023-12-21T17:45:11+0000 lvl=info msg=\"join connections\" obj=join id=681860d0defc l=127.0.0.1:8237 r=203.163.245.140:49790\n"
          ]
        },
        {
          "output_type": "stream",
          "name": "stdout",
          "text": [
            "\u001b[1;35mt=2023-12-21T17:45:11+0000 lvl=info msg=\"join connections\" obj=join id=681860d0defc l=127.0.0.1:8237 r=203.163.245.140:49790\u001b[0m\n"
          ]
        },
        {
          "output_type": "stream",
          "name": "stderr",
          "text": [
            "INFO:pyngrok.process.ngrok:t=2023-12-21T17:45:11+0000 lvl=info msg=\"join connections\" obj=join id=abbfe92bab98 l=127.0.0.1:8237 r=203.163.245.140:49790\n"
          ]
        },
        {
          "output_type": "stream",
          "name": "stdout",
          "text": [
            "\u001b[1;35mt=2023-12-21T17:45:11+0000 lvl=info msg=\"join connections\" obj=join id=abbfe92bab98 l=127.0.0.1:8237 r=203.163.245.140:49790\u001b[0m\n",
            "\u001b[1;35mGot token from cookie\u001b[0m\n",
            "\u001b[1;35mGot token from cookie\u001b[0m\n",
            "\u001b[1;35mGot token from cookie\u001b[0m\n",
            "\u001b[32mINFO\u001b[0m:     203.163.245.140:0 - \"\u001b[1mGET /api/v1/workspaces/default/components?scope_type=orchestrator&sort_by=desc:created&logical_operator=and&page=1&size=10 HTTP/1.1\u001b[0m\" \u001b[32m200 OK\u001b[0m\n",
            "\u001b[32mINFO\u001b[0m:     203.163.245.140:0 - \"\u001b[1mGET /api/v1/component-types HTTP/1.1\u001b[0m\" \u001b[32m200 OK\u001b[0m\n",
            "\u001b[32mINFO\u001b[0m:     203.163.245.140:0 - \"\u001b[1mGET /api/v1/info HTTP/1.1\u001b[0m\" \u001b[32m200 OK\u001b[0m\n",
            "\u001b[32mINFO\u001b[0m:     203.163.245.140:0 - \"\u001b[1mGET /api/v1/workspaces HTTP/1.1\u001b[0m\" \u001b[32m200 OK\u001b[0m\n",
            "\u001b[32mINFO\u001b[0m:     203.163.245.140:0 - \"\u001b[1mGET /api/v1/flavors?size=1000 HTTP/1.1\u001b[0m\" \u001b[32m200 OK\u001b[0m\n"
          ]
        },
        {
          "output_type": "stream",
          "name": "stderr",
          "text": [
            "INFO:pyngrok.process.ngrok:t=2023-12-21T17:45:15+0000 lvl=info msg=\"join connections\" obj=join id=965c416a2426 l=127.0.0.1:8237 r=203.163.245.140:49790\n"
          ]
        },
        {
          "output_type": "stream",
          "name": "stdout",
          "text": [
            "\u001b[1;35mGot token from cookie\u001b[0m\n",
            "\u001b[1;35mGot token from cookie\u001b[0m\n",
            "\u001b[32mINFO\u001b[0m:     203.163.245.140:0 - \"\u001b[1mGET /api/v1/component-types HTTP/1.1\u001b[0m\" \u001b[32m200 OK\u001b[0m\n",
            "\u001b[32mINFO\u001b[0m:     203.163.245.140:0 - \"\u001b[1mGET /api/v1/workspaces HTTP/1.1\u001b[0m\" \u001b[32m200 OK\u001b[0m\n",
            "\u001b[1;35mt=2023-12-21T17:45:15+0000 lvl=info msg=\"join connections\" obj=join id=965c416a2426 l=127.0.0.1:8237 r=203.163.245.140:49790\u001b[0m\n"
          ]
        },
        {
          "output_type": "stream",
          "name": "stderr",
          "text": [
            "INFO:pyngrok.process.ngrok:t=2023-12-21T17:45:15+0000 lvl=info msg=\"join connections\" obj=join id=7d17c5b53cd7 l=127.0.0.1:8237 r=203.163.245.140:49790\n"
          ]
        },
        {
          "output_type": "stream",
          "name": "stdout",
          "text": [
            "\u001b[1;35mt=2023-12-21T17:45:15+0000 lvl=info msg=\"join connections\" obj=join id=7d17c5b53cd7 l=127.0.0.1:8237 r=203.163.245.140:49790\u001b[0m\n",
            "\u001b[1;35mGot token from cookie\u001b[0m\n",
            "\u001b[32mINFO\u001b[0m:     203.163.245.140:0 - \"\u001b[1mGET /api/v1/info HTTP/1.1\u001b[0m\" \u001b[32m200 OK\u001b[0m\n",
            "\u001b[32mINFO\u001b[0m:     203.163.245.140:0 - \"\u001b[1mGET /api/v1/components/74ee50a6-a9a3-4051-a286-ac47aa093be4 HTTP/1.1\u001b[0m\" \u001b[32m200 OK\u001b[0m\n",
            "\u001b[1;35mGot token from cookie\u001b[0m\n",
            "\u001b[32mINFO\u001b[0m:     203.163.245.140:0 - \"\u001b[1mGET /api/v1/flavors?hydrate=true&type=orchestrator&name=local HTTP/1.1\u001b[0m\" \u001b[32m200 OK\u001b[0m\n",
            "\u001b[1;35mGot token from cookie\u001b[0m\n",
            "\u001b[32mINFO\u001b[0m:     203.163.245.140:0 - \"\u001b[1mGET /api/v1/flavors/910ebeb7-13bb-4fe3-b748-835847fa0d96 HTTP/1.1\u001b[0m\" \u001b[32m200 OK\u001b[0m\n"
          ]
        },
        {
          "output_type": "stream",
          "name": "stderr",
          "text": [
            "INFO:pyngrok.process.ngrok:t=2023-12-21T17:45:19+0000 lvl=info msg=\"join connections\" obj=join id=734f08de57d8 l=127.0.0.1:8237 r=203.163.245.140:49790\n"
          ]
        },
        {
          "output_type": "stream",
          "name": "stdout",
          "text": [
            "\u001b[1;35mGot token from cookie\u001b[0m\n",
            "\u001b[1;35mGot token from cookie\u001b[0m\n",
            "\u001b[32mINFO\u001b[0m:     203.163.245.140:0 - \"\u001b[1mGET /api/v1/workspaces HTTP/1.1\u001b[0m\" \u001b[32m200 OK\u001b[0m\n",
            "\u001b[32mINFO\u001b[0m:     203.163.245.140:0 - \"\u001b[1mGET /api/v1/workspaces/default/code_repositories?hydrate=true&page=1&size=10 HTTP/1.1\u001b[0m\" \u001b[32m200 OK\u001b[0m\n",
            "\u001b[1;35mt=2023-12-21T17:45:19+0000 lvl=info msg=\"join connections\" obj=join id=734f08de57d8 l=127.0.0.1:8237 r=203.163.245.140:49790\u001b[0m\n"
          ]
        },
        {
          "output_type": "stream",
          "name": "stderr",
          "text": [
            "INFO:pyngrok.process.ngrok:t=2023-12-21T17:45:19+0000 lvl=info msg=\"join connections\" obj=join id=d00f38d73878 l=127.0.0.1:8237 r=203.163.245.140:49790\n"
          ]
        },
        {
          "output_type": "stream",
          "name": "stdout",
          "text": [
            "\u001b[1;35mt=2023-12-21T17:45:19+0000 lvl=info msg=\"join connections\" obj=join id=d00f38d73878 l=127.0.0.1:8237 r=203.163.245.140:49790\u001b[0m\n",
            "\u001b[1;35mGot token from cookie\u001b[0m\n",
            "\u001b[32mINFO\u001b[0m:     203.163.245.140:0 - \"\u001b[1mGET /api/v1/workspaces/default/code_repositories?hydrate=true&logical_operator=and&page=1&size=10 HTTP/1.1\u001b[0m\" \u001b[32m200 OK\u001b[0m\n",
            "\u001b[32mINFO\u001b[0m:     203.163.245.140:0 - \"\u001b[1mGET /api/v1/info HTTP/1.1\u001b[0m\" \u001b[32m200 OK\u001b[0m\n"
          ]
        },
        {
          "output_type": "stream",
          "name": "stderr",
          "text": [
            "INFO:pyngrok.process.ngrok:t=2023-12-21T17:45:27+0000 lvl=info msg=\"join connections\" obj=join id=d9225de994b5 l=127.0.0.1:8237 r=203.163.245.140:49790\n"
          ]
        },
        {
          "output_type": "stream",
          "name": "stdout",
          "text": [
            "\u001b[1;35mt=2023-12-21T17:45:27+0000 lvl=info msg=\"join connections\" obj=join id=d9225de994b5 l=127.0.0.1:8237 r=203.163.245.140:49790\u001b[0m\n"
          ]
        },
        {
          "output_type": "stream",
          "name": "stderr",
          "text": [
            "INFO:pyngrok.process.ngrok:t=2023-12-21T17:45:27+0000 lvl=info msg=\"join connections\" obj=join id=c1aa51ccee7c l=127.0.0.1:8237 r=203.163.245.140:49790\n"
          ]
        },
        {
          "output_type": "stream",
          "name": "stdout",
          "text": [
            "\u001b[1;35mGot token from cookie\u001b[0m\n",
            "\u001b[32mINFO\u001b[0m:     203.163.245.140:0 - \"\u001b[1mGET /api/v1/workspaces HTTP/1.1\u001b[0m\" \u001b[32m200 OK\u001b[0m\n",
            "\u001b[1;35mt=2023-12-21T17:45:27+0000 lvl=info msg=\"join connections\" obj=join id=c1aa51ccee7c l=127.0.0.1:8237 r=203.163.245.140:49790\u001b[0m\n"
          ]
        },
        {
          "output_type": "stream",
          "name": "stderr",
          "text": [
            "INFO:pyngrok.process.ngrok:t=2023-12-21T17:45:27+0000 lvl=info msg=\"join connections\" obj=join id=f3a38e4e40c4 l=127.0.0.1:8237 r=203.163.245.140:49790\n"
          ]
        },
        {
          "output_type": "stream",
          "name": "stdout",
          "text": [
            "\u001b[1;35mt=2023-12-21T17:45:27+0000 lvl=info msg=\"join connections\" obj=join id=f3a38e4e40c4 l=127.0.0.1:8237 r=203.163.245.140:49790\u001b[0m\n",
            "\u001b[1;35mGot token from cookie\u001b[0m\n",
            "\u001b[32mINFO\u001b[0m:     203.163.245.140:0 - \"\u001b[1mGET /api/v1/info HTTP/1.1\u001b[0m\" \u001b[32m200 OK\u001b[0m\n",
            "\u001b[32mINFO\u001b[0m:     203.163.245.140:0 - \"\u001b[1mGET /api/v1/workspaces/default/service_connectors?sort_by=desc:created&logical_operator=and&page=1&size=10 HTTP/1.1\u001b[0m\" \u001b[32m200 OK\u001b[0m\n",
            "\u001b[32mINFO\u001b[0m:     203.163.245.140:0 - \"\u001b[1mGET /api/v1/info HTTP/1.1\u001b[0m\" \u001b[32m200 OK\u001b[0m\n"
          ]
        },
        {
          "output_type": "stream",
          "name": "stderr",
          "text": [
            "INFO:pyngrok.process.ngrok:t=2023-12-21T17:45:29+0000 lvl=info msg=\"join connections\" obj=join id=2dc5736b9167 l=127.0.0.1:8237 r=203.163.245.140:49790\n"
          ]
        },
        {
          "output_type": "stream",
          "name": "stdout",
          "text": [
            "\u001b[1;35mGot token from cookie\u001b[0m\n",
            "\u001b[1;35mGot token from cookie\u001b[0m\n",
            "\u001b[32mINFO\u001b[0m:     203.163.245.140:0 - \"\u001b[1mGET /api/v1/workspaces/default/code_repositories?hydrate=true&logical_operator=and&page=1&size=10 HTTP/1.1\u001b[0m\" \u001b[32m200 OK\u001b[0m\n",
            "\u001b[32mINFO\u001b[0m:     203.163.245.140:0 - \"\u001b[1mGET /api/v1/workspaces HTTP/1.1\u001b[0m\" \u001b[32m200 OK\u001b[0m\n",
            "\u001b[1;35mt=2023-12-21T17:45:29+0000 lvl=info msg=\"join connections\" obj=join id=2dc5736b9167 l=127.0.0.1:8237 r=203.163.245.140:49790\u001b[0m\n"
          ]
        },
        {
          "output_type": "stream",
          "name": "stderr",
          "text": [
            "INFO:pyngrok.process.ngrok:t=2023-12-21T17:45:29+0000 lvl=info msg=\"join connections\" obj=join id=b31f6de33df2 l=127.0.0.1:8237 r=203.163.245.140:49790\n"
          ]
        },
        {
          "output_type": "stream",
          "name": "stdout",
          "text": [
            "\u001b[1;35mGot token from cookie\u001b[0m\n",
            "\u001b[1;35mt=2023-12-21T17:45:29+0000 lvl=info msg=\"join connections\" obj=join id=b31f6de33df2 l=127.0.0.1:8237 r=203.163.245.140:49790\u001b[0m\n",
            "\u001b[32mINFO\u001b[0m:     203.163.245.140:0 - \"\u001b[1mGET /api/v1/info HTTP/1.1\u001b[0m\" \u001b[32m200 OK\u001b[0m\n",
            "\u001b[32mINFO\u001b[0m:     203.163.245.140:0 - \"\u001b[1mGET /api/v1/workspaces/default/code_repositories?hydrate=true&page=1&size=10 HTTP/1.1\u001b[0m\" \u001b[32m200 OK\u001b[0m\n"
          ]
        },
        {
          "output_type": "stream",
          "name": "stderr",
          "text": [
            "INFO:pyngrok.process.ngrok:t=2023-12-21T17:45:31+0000 lvl=info msg=\"join connections\" obj=join id=3e0bca3b4bfe l=127.0.0.1:8237 r=203.163.245.140:49790\n"
          ]
        },
        {
          "output_type": "stream",
          "name": "stdout",
          "text": [
            "\u001b[1;35mGot token from cookie\u001b[0m\n",
            "\u001b[1;35mGot token from cookie\u001b[0m\n",
            "\u001b[32mINFO\u001b[0m:     203.163.245.140:0 - \"\u001b[1mGET /api/v1/component-types HTTP/1.1\u001b[0m\" \u001b[32m200 OK\u001b[0m\n",
            "\u001b[32mINFO\u001b[0m:     203.163.245.140:0 - \"\u001b[1mGET /api/v1/workspaces HTTP/1.1\u001b[0m\" \u001b[32m200 OK\u001b[0m\n",
            "\u001b[1;35mt=2023-12-21T17:45:31+0000 lvl=info msg=\"join connections\" obj=join id=3e0bca3b4bfe l=127.0.0.1:8237 r=203.163.245.140:49790\u001b[0m\n"
          ]
        },
        {
          "output_type": "stream",
          "name": "stderr",
          "text": [
            "INFO:pyngrok.process.ngrok:t=2023-12-21T17:45:31+0000 lvl=info msg=\"join connections\" obj=join id=cb02679e57d2 l=127.0.0.1:8237 r=203.163.245.140:49790\n"
          ]
        },
        {
          "output_type": "stream",
          "name": "stdout",
          "text": [
            "\u001b[1;35mt=2023-12-21T17:45:31+0000 lvl=info msg=\"join connections\" obj=join id=cb02679e57d2 l=127.0.0.1:8237 r=203.163.245.140:49790\u001b[0m\n",
            "\u001b[1;35mGot token from cookie\u001b[0m\n"
          ]
        },
        {
          "output_type": "stream",
          "name": "stderr",
          "text": [
            "INFO:pyngrok.process.ngrok:t=2023-12-21T17:45:31+0000 lvl=info msg=\"join connections\" obj=join id=410088c85149 l=127.0.0.1:8237 r=203.163.245.140:49790\n"
          ]
        },
        {
          "output_type": "stream",
          "name": "stdout",
          "text": [
            "\u001b[1;35mt=2023-12-21T17:45:31+0000 lvl=info msg=\"join connections\" obj=join id=410088c85149 l=127.0.0.1:8237 r=203.163.245.140:49790\u001b[0m\n",
            "\u001b[1;35mGot token from cookie\u001b[0m\n",
            "\u001b[32mINFO\u001b[0m:     203.163.245.140:0 - \"\u001b[1mGET /api/v1/info HTTP/1.1\u001b[0m\" \u001b[32m200 OK\u001b[0m\n",
            "\u001b[32mINFO\u001b[0m:     203.163.245.140:0 - \"\u001b[1mGET /api/v1/workspaces/default/components?scope_type=orchestrator&sort_by=desc:created&logical_operator=and&page=1&size=10 HTTP/1.1\u001b[0m\" \u001b[32m200 OK\u001b[0m\n",
            "\u001b[32mINFO\u001b[0m:     203.163.245.140:0 - \"\u001b[1mGET /api/v1/flavors?size=1000 HTTP/1.1\u001b[0m\" \u001b[32m200 OK\u001b[0m\n"
          ]
        },
        {
          "output_type": "stream",
          "name": "stderr",
          "text": [
            "INFO:pyngrok.process.ngrok:t=2023-12-21T17:45:37+0000 lvl=info msg=\"join connections\" obj=join id=e4b378e96f1c l=127.0.0.1:8237 r=203.163.245.140:49790\n"
          ]
        },
        {
          "output_type": "stream",
          "name": "stdout",
          "text": [
            "\u001b[1;35mt=2023-12-21T17:45:37+0000 lvl=info msg=\"join connections\" obj=join id=e4b378e96f1c l=127.0.0.1:8237 r=203.163.245.140:49790\u001b[0m\n",
            "\u001b[1;35mGot token from cookie\u001b[0m\n",
            "\u001b[32mINFO\u001b[0m:     203.163.245.140:0 - \"\u001b[1mGET /api/v1/workspaces/default/components?scope_type=orchestrator&sort_by=desc:created&logical_operator=and&page=1&size=10 HTTP/1.1\u001b[0m\" \u001b[32m200 OK\u001b[0m\n"
          ]
        },
        {
          "output_type": "stream",
          "name": "stderr",
          "text": [
            "INFO:pyngrok.process.ngrok:t=2023-12-21T17:45:43+0000 lvl=info msg=\"join connections\" obj=join id=3992d0890e34 l=127.0.0.1:8237 r=203.163.245.140:49790\n"
          ]
        },
        {
          "output_type": "stream",
          "name": "stdout",
          "text": [
            "\u001b[1;35mt=2023-12-21T17:45:43+0000 lvl=info msg=\"join connections\" obj=join id=3992d0890e34 l=127.0.0.1:8237 r=203.163.245.140:49790\u001b[0m\n",
            "\u001b[1;35mGot token from cookie\u001b[0m\n",
            "\u001b[32mINFO\u001b[0m:     203.163.245.140:0 - \"\u001b[1mGET /api/v1/workspaces/default/components?scope_type=orchestrator&sort_by=desc:created&logical_operator=and&page=1&size=10 HTTP/1.1\u001b[0m\" \u001b[32m200 OK\u001b[0m\n"
          ]
        },
        {
          "output_type": "stream",
          "name": "stderr",
          "text": [
            "INFO:pyngrok.process.ngrok:t=2023-12-21T17:45:48+0000 lvl=info msg=\"join connections\" obj=join id=9225c0f70a48 l=127.0.0.1:8237 r=203.163.245.140:49790\n"
          ]
        },
        {
          "output_type": "stream",
          "name": "stdout",
          "text": [
            "\u001b[1;35mt=2023-12-21T17:45:48+0000 lvl=info msg=\"join connections\" obj=join id=9225c0f70a48 l=127.0.0.1:8237 r=203.163.245.140:49790\u001b[0m\n",
            "\u001b[1;35mGot token from cookie\u001b[0m\n",
            "\u001b[32mINFO\u001b[0m:     203.163.245.140:0 - \"\u001b[1mGET /api/v1/workspaces/default/components?scope_type=orchestrator&sort_by=desc:created&logical_operator=and&page=1&size=10 HTTP/1.1\u001b[0m\" \u001b[32m200 OK\u001b[0m\n"
          ]
        },
        {
          "output_type": "stream",
          "name": "stderr",
          "text": [
            "INFO:pyngrok.process.ngrok:t=2023-12-21T17:45:54+0000 lvl=info msg=\"join connections\" obj=join id=23c819a176b8 l=127.0.0.1:8237 r=203.163.245.140:49790\n"
          ]
        },
        {
          "output_type": "stream",
          "name": "stdout",
          "text": [
            "\u001b[1;35mt=2023-12-21T17:45:54+0000 lvl=info msg=\"join connections\" obj=join id=23c819a176b8 l=127.0.0.1:8237 r=203.163.245.140:49790\u001b[0m\n",
            "\u001b[1;35mGot token from cookie\u001b[0m\n",
            "\u001b[32mINFO\u001b[0m:     203.163.245.140:0 - \"\u001b[1mGET /api/v1/workspaces/default/components?scope_type=orchestrator&sort_by=desc:created&logical_operator=and&page=1&size=10 HTTP/1.1\u001b[0m\" \u001b[32m200 OK\u001b[0m\n"
          ]
        },
        {
          "output_type": "stream",
          "name": "stderr",
          "text": [
            "INFO:pyngrok.process.ngrok:t=2023-12-21T17:45:59+0000 lvl=info msg=\"join connections\" obj=join id=2fc9a86f7746 l=127.0.0.1:8237 r=203.163.245.140:49790\n"
          ]
        },
        {
          "output_type": "stream",
          "name": "stdout",
          "text": [
            "\u001b[1;35mt=2023-12-21T17:45:59+0000 lvl=info msg=\"join connections\" obj=join id=2fc9a86f7746 l=127.0.0.1:8237 r=203.163.245.140:49790\u001b[0m\n",
            "\u001b[1;35mGot token from cookie\u001b[0m\n",
            "\u001b[32mINFO\u001b[0m:     203.163.245.140:0 - \"\u001b[1mGET /api/v1/workspaces/default/components?scope_type=orchestrator&sort_by=desc:created&logical_operator=and&page=1&size=10 HTTP/1.1\u001b[0m\" \u001b[32m200 OK\u001b[0m\n"
          ]
        },
        {
          "output_type": "stream",
          "name": "stderr",
          "text": [
            "INFO:pyngrok.process.ngrok:t=2023-12-21T17:46:05+0000 lvl=info msg=\"join connections\" obj=join id=08597aba9a0d l=127.0.0.1:8237 r=203.163.245.140:49790\n"
          ]
        },
        {
          "output_type": "stream",
          "name": "stdout",
          "text": [
            "\u001b[1;35mt=2023-12-21T17:46:05+0000 lvl=info msg=\"join connections\" obj=join id=08597aba9a0d l=127.0.0.1:8237 r=203.163.245.140:49790\u001b[0m\n",
            "\u001b[1;35mGot token from cookie\u001b[0m\n",
            "\u001b[32mINFO\u001b[0m:     203.163.245.140:0 - \"\u001b[1mGET /api/v1/workspaces/default/components?scope_type=orchestrator&sort_by=desc:created&logical_operator=and&page=1&size=10 HTTP/1.1\u001b[0m\" \u001b[32m200 OK\u001b[0m\n"
          ]
        },
        {
          "output_type": "stream",
          "name": "stderr",
          "text": [
            "INFO:pyngrok.process.ngrok:t=2023-12-21T17:46:11+0000 lvl=info msg=\"join connections\" obj=join id=23768688a061 l=127.0.0.1:8237 r=203.163.245.140:49790\n"
          ]
        },
        {
          "output_type": "stream",
          "name": "stdout",
          "text": [
            "\u001b[1;35mt=2023-12-21T17:46:11+0000 lvl=info msg=\"join connections\" obj=join id=23768688a061 l=127.0.0.1:8237 r=203.163.245.140:49790\u001b[0m\n",
            "\u001b[1;35mGot token from cookie\u001b[0m\n",
            "\u001b[32mINFO\u001b[0m:     203.163.245.140:0 - \"\u001b[1mGET /api/v1/workspaces/default/components?scope_type=orchestrator&sort_by=desc:created&logical_operator=and&page=1&size=10 HTTP/1.1\u001b[0m\" \u001b[32m200 OK\u001b[0m\n"
          ]
        },
        {
          "output_type": "stream",
          "name": "stderr",
          "text": [
            "INFO:pyngrok.process.ngrok:t=2023-12-21T17:46:17+0000 lvl=info msg=\"join connections\" obj=join id=ba0fdaf3d846 l=127.0.0.1:8237 r=203.163.245.140:49790\n"
          ]
        },
        {
          "output_type": "stream",
          "name": "stdout",
          "text": [
            "\u001b[1;35mt=2023-12-21T17:46:17+0000 lvl=info msg=\"join connections\" obj=join id=ba0fdaf3d846 l=127.0.0.1:8237 r=203.163.245.140:49790\u001b[0m\n",
            "\u001b[1;35mGot token from cookie\u001b[0m\n",
            "\u001b[32mINFO\u001b[0m:     203.163.245.140:0 - \"\u001b[1mGET /api/v1/workspaces/default/components?scope_type=orchestrator&sort_by=desc:created&logical_operator=and&page=1&size=10 HTTP/1.1\u001b[0m\" \u001b[32m200 OK\u001b[0m\n"
          ]
        },
        {
          "output_type": "stream",
          "name": "stderr",
          "text": [
            "INFO:pyngrok.process.ngrok:t=2023-12-21T17:46:23+0000 lvl=info msg=\"join connections\" obj=join id=d9337044d6e9 l=127.0.0.1:8237 r=203.163.245.140:49790\n"
          ]
        },
        {
          "output_type": "stream",
          "name": "stdout",
          "text": [
            "\u001b[1;35mt=2023-12-21T17:46:23+0000 lvl=info msg=\"join connections\" obj=join id=d9337044d6e9 l=127.0.0.1:8237 r=203.163.245.140:49790\u001b[0m\n",
            "\u001b[1;35mGot token from cookie\u001b[0m\n",
            "\u001b[32mINFO\u001b[0m:     203.163.245.140:0 - \"\u001b[1mGET /api/v1/workspaces/default/components?scope_type=orchestrator&sort_by=desc:created&logical_operator=and&page=1&size=10 HTTP/1.1\u001b[0m\" \u001b[32m200 OK\u001b[0m\n"
          ]
        },
        {
          "output_type": "stream",
          "name": "stderr",
          "text": [
            "INFO:pyngrok.process.ngrok:t=2023-12-21T17:46:29+0000 lvl=info msg=\"join connections\" obj=join id=a4343a2776fe l=127.0.0.1:8237 r=203.163.245.140:49790\n"
          ]
        },
        {
          "output_type": "stream",
          "name": "stdout",
          "text": [
            "\u001b[1;35mt=2023-12-21T17:46:29+0000 lvl=info msg=\"join connections\" obj=join id=a4343a2776fe l=127.0.0.1:8237 r=203.163.245.140:49790\u001b[0m\n",
            "\u001b[1;35mGot token from cookie\u001b[0m\n",
            "\u001b[32mINFO\u001b[0m:     203.163.245.140:0 - \"\u001b[1mGET /api/v1/workspaces/default/components?scope_type=orchestrator&sort_by=desc:created&logical_operator=and&page=1&size=10 HTTP/1.1\u001b[0m\" \u001b[32m200 OK\u001b[0m\n"
          ]
        },
        {
          "output_type": "stream",
          "name": "stderr",
          "text": [
            "INFO:pyngrok.process.ngrok:t=2023-12-21T17:46:45+0000 lvl=info msg=\"received stop request\" obj=app stopReq=\"{err:<nil> restart:false}\"\n"
          ]
        },
        {
          "output_type": "stream",
          "name": "stdout",
          "text": [
            "\u001b[1;35mt=2023-12-21T17:46:45+0000 lvl=info msg=\"received stop request\" obj=app stopReq=\"{err:<nil> restart:false}\"\u001b[0m\n",
            "\u001b[32mINFO\u001b[0m:     Shutting down\n",
            "\u001b[32mINFO\u001b[0m:     Finished server process [\u001b[36m71973\u001b[0m]\n",
            "\u001b[31mERROR\u001b[0m:    Traceback (most recent call last):\n",
            "  File \"/usr/local/lib/python3.10/dist-packages/starlette/routing.py\", line 686, in lifespan\n",
            "    await receive()\n",
            "  File \"/usr/local/lib/python3.10/dist-packages/uvicorn/lifespan/on.py\", line 137, in receive\n",
            "    return await self.receive_queue.get()\n",
            "  File \"/usr/lib/python3.10/asyncio/queues.py\", line 159, in get\n",
            "    await getter\n",
            "asyncio.exceptions.CancelledError\n",
            "\n"
          ]
        }
      ]
    },
    {
      "cell_type": "code",
      "source": [],
      "metadata": {
        "id": "tlVza-Nvhmts"
      },
      "execution_count": 9,
      "outputs": []
    }
  ]
}